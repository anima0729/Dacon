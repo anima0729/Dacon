{
 "cells": [
  {
   "cell_type": "code",
   "execution_count": 1,
   "metadata": {},
   "outputs": [],
   "source": [
    "from scipy.stats import skew, kurtosis\n",
    "from sklearn.manifold import TSNE\n",
    "\n",
    "import pandas as pd\n",
    "import numpy as np\n",
    "import missingno\n",
    "import seaborn as sns\n",
    "import os\n",
    "from tqdm import tqdm\n",
    "pd.set_option('display.max_rows', 500)\n",
    "\n",
    "train = pd.read_csv('./data/train_features.csv')\n",
    "train_labels = pd.read_csv('./data/train_labels.csv')\n",
    "test = pd.read_csv('./data/test_features.csv')\n",
    "submission = pd.read_csv('./data/sample_submission.csv')"
   ]
  },
  {
   "cell_type": "code",
   "execution_count": 2,
   "metadata": {},
   "outputs": [
    {
     "data": {
      "text/plain": [
       "(1875000, 8)"
      ]
     },
     "execution_count": 2,
     "metadata": {},
     "output_type": "execute_result"
    }
   ],
   "source": [
    "train.shape"
   ]
  },
  {
   "cell_type": "code",
   "execution_count": 3,
   "metadata": {},
   "outputs": [
    {
     "data": {
      "text/html": [
       "<div>\n",
       "<style scoped>\n",
       "    .dataframe tbody tr th:only-of-type {\n",
       "        vertical-align: middle;\n",
       "    }\n",
       "\n",
       "    .dataframe tbody tr th {\n",
       "        vertical-align: top;\n",
       "    }\n",
       "\n",
       "    .dataframe thead th {\n",
       "        text-align: right;\n",
       "    }\n",
       "</style>\n",
       "<table border=\"1\" class=\"dataframe\">\n",
       "  <thead>\n",
       "    <tr style=\"text-align: right;\">\n",
       "      <th></th>\n",
       "      <th>id</th>\n",
       "      <th>time</th>\n",
       "      <th>acc_x</th>\n",
       "      <th>acc_y</th>\n",
       "      <th>acc_z</th>\n",
       "      <th>gy_x</th>\n",
       "      <th>gy_y</th>\n",
       "      <th>gy_z</th>\n",
       "    </tr>\n",
       "  </thead>\n",
       "  <tbody>\n",
       "    <tr>\n",
       "      <th>0</th>\n",
       "      <td>0</td>\n",
       "      <td>0</td>\n",
       "      <td>1.206087</td>\n",
       "      <td>-0.179371</td>\n",
       "      <td>-0.148447</td>\n",
       "      <td>-0.591608</td>\n",
       "      <td>-30.549010</td>\n",
       "      <td>-31.676112</td>\n",
       "    </tr>\n",
       "    <tr>\n",
       "      <th>1</th>\n",
       "      <td>0</td>\n",
       "      <td>1</td>\n",
       "      <td>1.287696</td>\n",
       "      <td>-0.198974</td>\n",
       "      <td>-0.182444</td>\n",
       "      <td>0.303100</td>\n",
       "      <td>-39.139103</td>\n",
       "      <td>-24.927216</td>\n",
       "    </tr>\n",
       "    <tr>\n",
       "      <th>2</th>\n",
       "      <td>0</td>\n",
       "      <td>2</td>\n",
       "      <td>1.304609</td>\n",
       "      <td>-0.195114</td>\n",
       "      <td>-0.253382</td>\n",
       "      <td>-3.617278</td>\n",
       "      <td>-44.122565</td>\n",
       "      <td>-25.019629</td>\n",
       "    </tr>\n",
       "    <tr>\n",
       "      <th>3</th>\n",
       "      <td>0</td>\n",
       "      <td>3</td>\n",
       "      <td>1.293095</td>\n",
       "      <td>-0.230366</td>\n",
       "      <td>-0.215210</td>\n",
       "      <td>2.712986</td>\n",
       "      <td>-53.597843</td>\n",
       "      <td>-27.454013</td>\n",
       "    </tr>\n",
       "    <tr>\n",
       "      <th>4</th>\n",
       "      <td>0</td>\n",
       "      <td>4</td>\n",
       "      <td>1.300887</td>\n",
       "      <td>-0.187757</td>\n",
       "      <td>-0.222523</td>\n",
       "      <td>4.286707</td>\n",
       "      <td>-57.906561</td>\n",
       "      <td>-27.961234</td>\n",
       "    </tr>\n",
       "    <tr>\n",
       "      <th>...</th>\n",
       "      <td>...</td>\n",
       "      <td>...</td>\n",
       "      <td>...</td>\n",
       "      <td>...</td>\n",
       "      <td>...</td>\n",
       "      <td>...</td>\n",
       "      <td>...</td>\n",
       "      <td>...</td>\n",
       "    </tr>\n",
       "    <tr>\n",
       "      <th>1874995</th>\n",
       "      <td>3124</td>\n",
       "      <td>595</td>\n",
       "      <td>-0.712530</td>\n",
       "      <td>-0.658357</td>\n",
       "      <td>0.293707</td>\n",
       "      <td>-29.367857</td>\n",
       "      <td>-104.013664</td>\n",
       "      <td>-76.290437</td>\n",
       "    </tr>\n",
       "    <tr>\n",
       "      <th>1874996</th>\n",
       "      <td>3124</td>\n",
       "      <td>596</td>\n",
       "      <td>-0.683037</td>\n",
       "      <td>-0.658466</td>\n",
       "      <td>0.329223</td>\n",
       "      <td>-30.149089</td>\n",
       "      <td>-101.796809</td>\n",
       "      <td>-76.625087</td>\n",
       "    </tr>\n",
       "    <tr>\n",
       "      <th>1874997</th>\n",
       "      <td>3124</td>\n",
       "      <td>597</td>\n",
       "      <td>-0.664730</td>\n",
       "      <td>-0.666625</td>\n",
       "      <td>0.364114</td>\n",
       "      <td>-27.873095</td>\n",
       "      <td>-98.776072</td>\n",
       "      <td>-79.365125</td>\n",
       "    </tr>\n",
       "    <tr>\n",
       "      <th>1874998</th>\n",
       "      <td>3124</td>\n",
       "      <td>598</td>\n",
       "      <td>-0.630534</td>\n",
       "      <td>-0.682565</td>\n",
       "      <td>0.373696</td>\n",
       "      <td>-23.636550</td>\n",
       "      <td>-99.139495</td>\n",
       "      <td>-80.259478</td>\n",
       "    </tr>\n",
       "    <tr>\n",
       "      <th>1874999</th>\n",
       "      <td>3124</td>\n",
       "      <td>599</td>\n",
       "      <td>-0.578351</td>\n",
       "      <td>-0.700235</td>\n",
       "      <td>0.384390</td>\n",
       "      <td>-17.917626</td>\n",
       "      <td>-100.181873</td>\n",
       "      <td>-80.676229</td>\n",
       "    </tr>\n",
       "  </tbody>\n",
       "</table>\n",
       "<p>1875000 rows × 8 columns</p>\n",
       "</div>"
      ],
      "text/plain": [
       "           id  time     acc_x     acc_y     acc_z       gy_x        gy_y  \\\n",
       "0           0     0  1.206087 -0.179371 -0.148447  -0.591608  -30.549010   \n",
       "1           0     1  1.287696 -0.198974 -0.182444   0.303100  -39.139103   \n",
       "2           0     2  1.304609 -0.195114 -0.253382  -3.617278  -44.122565   \n",
       "3           0     3  1.293095 -0.230366 -0.215210   2.712986  -53.597843   \n",
       "4           0     4  1.300887 -0.187757 -0.222523   4.286707  -57.906561   \n",
       "...       ...   ...       ...       ...       ...        ...         ...   \n",
       "1874995  3124   595 -0.712530 -0.658357  0.293707 -29.367857 -104.013664   \n",
       "1874996  3124   596 -0.683037 -0.658466  0.329223 -30.149089 -101.796809   \n",
       "1874997  3124   597 -0.664730 -0.666625  0.364114 -27.873095  -98.776072   \n",
       "1874998  3124   598 -0.630534 -0.682565  0.373696 -23.636550  -99.139495   \n",
       "1874999  3124   599 -0.578351 -0.700235  0.384390 -17.917626 -100.181873   \n",
       "\n",
       "              gy_z  \n",
       "0       -31.676112  \n",
       "1       -24.927216  \n",
       "2       -25.019629  \n",
       "3       -27.454013  \n",
       "4       -27.961234  \n",
       "...            ...  \n",
       "1874995 -76.290437  \n",
       "1874996 -76.625087  \n",
       "1874997 -79.365125  \n",
       "1874998 -80.259478  \n",
       "1874999 -80.676229  \n",
       "\n",
       "[1875000 rows x 8 columns]"
      ]
     },
     "execution_count": 3,
     "metadata": {},
     "output_type": "execute_result"
    }
   ],
   "source": [
    "train"
   ]
  },
  {
   "cell_type": "code",
   "execution_count": 2,
   "metadata": {},
   "outputs": [],
   "source": [
    "train['acc_t'] = np.sqrt(train['acc_x']**2 + train['acc_y']**2 + train['acc_z']**2)\n",
    "test['acc_t'] = np.sqrt(test['acc_x']**2 + test['acc_y']**2 + test['acc_z']**2)\n",
    "\n",
    "train['gy_t'] = np.sqrt(train['gy_x']**2 + train['gy_y']**2 + train['gy_z']**2)\n",
    "test['gy_t'] = np.sqrt(test['gy_x']**2 + test['gy_y']**2 + test['gy_z']**2)"
   ]
  },
  {
   "cell_type": "code",
   "execution_count": 2,
   "metadata": {},
   "outputs": [],
   "source": [
    "train['acc_t'] = np.sqrt(train['acc_x']**2 + train['acc_y']**2 + train['acc_z']**2)\n",
    "test['acc_t'] = np.sqrt(test['acc_x']**2 + test['acc_y']**2 + test['acc_z']**2)\n",
    "\n",
    "train['gy_t'] = np.sqrt(train['gy_x']**2 + train['gy_y']**2 + train['gy_z']**2)\n",
    "test['gy_t'] = np.sqrt(test['gy_x']**2 + test['gy_y']**2 + test['gy_z']**2)\n",
    "\n",
    "train['total'] = train['acc_t'] + train['gy_t']\n",
    "test['total'] = test['acc_t'] + test['gy_t']"
   ]
  },
  {
   "cell_type": "code",
   "execution_count": 2,
   "metadata": {},
   "outputs": [],
   "source": [
    "train['acc_t'] = np.sqrt(train['acc_x']**2 + train['acc_y']**2 + train['acc_z']**2)\n",
    "test['acc_t'] = np.sqrt(test['acc_x']**2 + test['acc_y']**2 + test['acc_z']**2)\n",
    "train['acc_xy'] = np.sqrt(train['acc_x']**2 + train['acc_y']**2)\n",
    "test['acc_xy'] = np.sqrt(test['acc_x']**2 + test['acc_y']**2)\n",
    "train['acc_yz'] = np.sqrt(train['acc_y']**2 + train['acc_z']**2)\n",
    "test['acc_yz'] = np.sqrt(test['acc_y']**2 + test['acc_z']**2)\n",
    "train['acc_xz'] = np.sqrt(train['acc_x']**2 + train['acc_z']**2)\n",
    "test['acc_xz'] = np.sqrt(test['acc_x']**2 + test['acc_z']**2)\n",
    "\n",
    "train['gy_t'] = np.sqrt(train['gy_x']**2 + train['gy_y']**2 + train['gy_z']**2)\n",
    "test['gy_t'] = np.sqrt(test['gy_x']**2 + test['gy_y']**2 + test['gy_z']**2)\n",
    "train['gy_xy'] = np.sqrt(train['gy_x']**2 + train['gy_y']**2)\n",
    "test['gy_xy'] = np.sqrt(test['gy_x']**2 + test['gy_y']**2)\n",
    "train['gy_yz'] = np.sqrt(train['gy_y']**2 + train['gy_z']**2)\n",
    "test['gy_yz'] = np.sqrt(test['gy_y']**2 + test['gy_z']**2)\n",
    "train['gy_xz'] = np.sqrt(train['gy_x']**2 + train['gy_z']**2)\n",
    "test['gy_xz'] = np.sqrt(test['gy_x']**2 + test['gy_z']**2)"
   ]
  },
  {
   "cell_type": "code",
   "execution_count": 3,
   "metadata": {},
   "outputs": [],
   "source": [
    "def ft_trans(name,train,test):\n",
    "    def train_test(check, num_col):\n",
    "        \n",
    "        if check == 'train':\n",
    "            df_checking = train.copy()\n",
    "            train_datas = np.zeros((len(df_checking.id.unique()), 304))\n",
    "        elif check == 'test':\n",
    "            df_checking = test.copy()\n",
    "            train_datas = np.zeros((len(df_checking.id.unique()), 304))\n",
    "            \n",
    "        for i, num in enumerate(tqdm(df_checking.id.unique())):\n",
    "            \n",
    "            tt = df_checking.loc[df_checking.id == num][name] - df_checking.loc[df_checking.id == num][name].mean()\n",
    "            fmax = 50\n",
    "            dt = 1/fmax\n",
    "            N = 600\n",
    "            \n",
    "            t = np.arange(0, N)*dt\n",
    "            x = tt.values\n",
    "            df = fmax/N\n",
    "            f = np.arange(0, N)*df\n",
    "            xf = np.fft.fft(x)*dt\n",
    "            tq_index = f[0:int(N/2+1)]\n",
    "            tq_abs = np.abs(xf[0:int(N/2+1)])\n",
    "            \n",
    "            results = pd.DataFrame(tq_abs, tq_index).reset_index().rename(columns={'index':'hz',0:'abs_value'})\n",
    "            \n",
    "            ar0 = np.array([num])\n",
    "            ar1 = results.abs_value.values\n",
    "            ar2 = np.array([skew(results.abs_value), kurtosis(results.abs_value, fisher=True)])\n",
    "            return_value = np.concatenate([ar0, ar1, ar2])\n",
    "            train_datas[i] = return_value\n",
    "            \n",
    "        return train_datas\n",
    "    \n",
    "    \n",
    "    col_ft = ['_'+str(x) for x in range(304)]\n",
    "    num_col = len(col_ft)\n",
    "    train_datas = train_test('train', num_col)\n",
    "    test_datas = train_test('test', num_col)\n",
    "    \n",
    "    col_ft_F = ['id']+[name+\"_\" + x for x in col_ft[1:]]\n",
    "    train_df = pd.DataFrame(train_datas, columns=col_ft_F)\n",
    "    test_df = pd.DataFrame(test_datas, columns=col_ft_F)\n",
    "    \n",
    "    train_df.id = train_df.id.astype('int')\n",
    "    test_df.id = test_df.id.astype('int')\n",
    "    \n",
    "    return train_df, test_df"
   ]
  },
  {
   "cell_type": "code",
   "execution_count": 4,
   "metadata": {},
   "outputs": [
    {
     "name": "stderr",
     "output_type": "stream",
     "text": [
      "100%|██████████| 3125/3125 [00:17<00:00, 177.75it/s]\n",
      "100%|██████████| 782/782 [00:02<00:00, 324.98it/s]\n"
     ]
    }
   ],
   "source": [
    "train_fft, test_fft = ft_trans('acc_t', train, test)"
   ]
  },
  {
   "cell_type": "code",
   "execution_count": 5,
   "metadata": {},
   "outputs": [
    {
     "name": "stderr",
     "output_type": "stream",
     "text": [
      "100%|██████████| 3125/3125 [00:17<00:00, 182.61it/s]\n",
      "100%|██████████| 782/782 [00:02<00:00, 323.10it/s]\n"
     ]
    }
   ],
   "source": [
    "train_fft, test_fft = ft_trans('gy_t', train, test)"
   ]
  },
  {
   "cell_type": "code",
   "execution_count": 7,
   "metadata": {},
   "outputs": [
    {
     "data": {
      "text/plain": [
       "(3125, 304)"
      ]
     },
     "execution_count": 7,
     "metadata": {},
     "output_type": "execute_result"
    }
   ],
   "source": [
    "train_fft.shape"
   ]
  },
  {
   "cell_type": "code",
   "execution_count": 8,
   "metadata": {},
   "outputs": [
    {
     "data": {
      "text/plain": [
       "(782, 304)"
      ]
     },
     "execution_count": 8,
     "metadata": {},
     "output_type": "execute_result"
    }
   ],
   "source": [
    "test_fft.shape"
   ]
  },
  {
   "cell_type": "code",
   "execution_count": 6,
   "metadata": {},
   "outputs": [],
   "source": [
    "train__fft_target = train_fft.iloc[:,1:-2]"
   ]
  },
  {
   "cell_type": "code",
   "execution_count": 7,
   "metadata": {},
   "outputs": [
    {
     "data": {
      "text/plain": [
       "(3125, 301)"
      ]
     },
     "execution_count": 7,
     "metadata": {},
     "output_type": "execute_result"
    }
   ],
   "source": [
    "train__fft_target.shape"
   ]
  },
  {
   "cell_type": "code",
   "execution_count": 8,
   "metadata": {},
   "outputs": [],
   "source": [
    "test__fft_target = test_fft.iloc[:,1:-2]"
   ]
  },
  {
   "cell_type": "code",
   "execution_count": 9,
   "metadata": {},
   "outputs": [
    {
     "data": {
      "text/plain": [
       "(782, 301)"
      ]
     },
     "execution_count": 9,
     "metadata": {},
     "output_type": "execute_result"
    }
   ],
   "source": [
    "test__fft_target.shape"
   ]
  },
  {
   "cell_type": "code",
   "execution_count": 9,
   "metadata": {},
   "outputs": [],
   "source": [
    "features = ['id', 'acc_x', 'acc_y', 'acc_z', 'gy_x', 'gy_y', 'gy_z', 'acc_t', 'gy_t', 'acc_xy', 'acc_yz', 'acc_xz', 'gy_xy', 'gy_yz', 'gy_xz']\n",
    "X_train = train[features].groupby('id').agg(['max', 'min', 'mean', 'std'])\n",
    "X_test = test[features].groupby('id').agg(['max', 'min', 'mean', 'std'])"
   ]
  },
  {
   "cell_type": "code",
   "execution_count": 3,
   "metadata": {},
   "outputs": [],
   "source": [
    "features = ['id', 'acc_x', 'acc_y', 'acc_z', 'gy_x', 'gy_y', 'gy_z', 'acc_t', 'gy_t']\n",
    "X_train = train[features].groupby('id').agg(['max', 'min', 'mean', 'std'])\n",
    "X_test = test[features].groupby('id').agg(['max', 'min', 'mean', 'std'])"
   ]
  },
  {
   "cell_type": "code",
   "execution_count": 3,
   "metadata": {},
   "outputs": [],
   "source": [
    "features = ['id', 'acc_x', 'acc_y', 'acc_z', 'gy_x', 'gy_y', 'gy_z', 'acc_t', 'gy_t', 'total']\n",
    "X_train = train[features].groupby('id').agg(['max', 'min', 'mean', 'std'])\n",
    "X_test = test[features].groupby('id').agg(['max', 'min', 'mean', 'std'])"
   ]
  },
  {
   "cell_type": "code",
   "execution_count": 6,
   "metadata": {},
   "outputs": [],
   "source": [
    "y_train = train_labels['label']"
   ]
  },
  {
   "cell_type": "code",
   "execution_count": 12,
   "metadata": {},
   "outputs": [],
   "source": [
    "X_train = pd.concat([X_train,train__fft_target],axis=1)"
   ]
  },
  {
   "cell_type": "code",
   "execution_count": 13,
   "metadata": {},
   "outputs": [
    {
     "name": "stderr",
     "output_type": "stream",
     "text": [
      "/usr/local/lib/python3.6/dist-packages/pandas/core/generic.py:3878: PerformanceWarning: dropping on a non-lexsorted multi-index without a level parameter may impact performance.\n",
      "  obj = obj._drop_axis(labels, axis, level=level, errors=errors)\n"
     ]
    }
   ],
   "source": [
    "X_test = X_test.reset_index()\n",
    "X_test = X_test.drop(['id'],axis=1)"
   ]
  },
  {
   "cell_type": "code",
   "execution_count": 14,
   "metadata": {},
   "outputs": [],
   "source": [
    "X_test = pd.concat([X_test,test__fft_target],axis=1)"
   ]
  },
  {
   "cell_type": "code",
   "execution_count": 15,
   "metadata": {
    "scrolled": false
   },
   "outputs": [
    {
     "data": {
      "text/html": [
       "<div>\n",
       "<style scoped>\n",
       "    .dataframe tbody tr th:only-of-type {\n",
       "        vertical-align: middle;\n",
       "    }\n",
       "\n",
       "    .dataframe tbody tr th {\n",
       "        vertical-align: top;\n",
       "    }\n",
       "\n",
       "    .dataframe thead th {\n",
       "        text-align: right;\n",
       "    }\n",
       "</style>\n",
       "<table border=\"1\" class=\"dataframe\">\n",
       "  <thead>\n",
       "    <tr style=\"text-align: right;\">\n",
       "      <th></th>\n",
       "      <th>(acc_x, max)</th>\n",
       "      <th>(acc_x, min)</th>\n",
       "      <th>(acc_x, mean)</th>\n",
       "      <th>(acc_x, std)</th>\n",
       "      <th>(acc_y, max)</th>\n",
       "      <th>(acc_y, min)</th>\n",
       "      <th>(acc_y, mean)</th>\n",
       "      <th>(acc_y, std)</th>\n",
       "      <th>(acc_z, max)</th>\n",
       "      <th>(acc_z, min)</th>\n",
       "      <th>...</th>\n",
       "      <th>gy_t__292</th>\n",
       "      <th>gy_t__293</th>\n",
       "      <th>gy_t__294</th>\n",
       "      <th>gy_t__295</th>\n",
       "      <th>gy_t__296</th>\n",
       "      <th>gy_t__297</th>\n",
       "      <th>gy_t__298</th>\n",
       "      <th>gy_t__299</th>\n",
       "      <th>gy_t__300</th>\n",
       "      <th>gy_t__301</th>\n",
       "    </tr>\n",
       "  </thead>\n",
       "  <tbody>\n",
       "    <tr>\n",
       "      <th>0</th>\n",
       "      <td>-0.275446</td>\n",
       "      <td>-1.564000</td>\n",
       "      <td>-1.018731</td>\n",
       "      <td>0.236232</td>\n",
       "      <td>0.228040</td>\n",
       "      <td>-0.470937</td>\n",
       "      <td>-0.019574</td>\n",
       "      <td>0.091641</td>\n",
       "      <td>0.286182</td>\n",
       "      <td>-0.573836</td>\n",
       "      <td>...</td>\n",
       "      <td>2.409821</td>\n",
       "      <td>2.257558</td>\n",
       "      <td>1.843405</td>\n",
       "      <td>0.911961</td>\n",
       "      <td>1.191994</td>\n",
       "      <td>1.389685</td>\n",
       "      <td>0.774847</td>\n",
       "      <td>1.264183</td>\n",
       "      <td>1.169758</td>\n",
       "      <td>1.337552</td>\n",
       "    </tr>\n",
       "    <tr>\n",
       "      <th>1</th>\n",
       "      <td>0.627571</td>\n",
       "      <td>-1.929033</td>\n",
       "      <td>-0.522843</td>\n",
       "      <td>0.539688</td>\n",
       "      <td>1.708743</td>\n",
       "      <td>-0.200678</td>\n",
       "      <td>0.612161</td>\n",
       "      <td>0.333015</td>\n",
       "      <td>0.671876</td>\n",
       "      <td>-1.212052</td>\n",
       "      <td>...</td>\n",
       "      <td>2.500361</td>\n",
       "      <td>2.397393</td>\n",
       "      <td>0.550313</td>\n",
       "      <td>2.571511</td>\n",
       "      <td>1.384850</td>\n",
       "      <td>2.078676</td>\n",
       "      <td>2.527210</td>\n",
       "      <td>2.137230</td>\n",
       "      <td>1.282196</td>\n",
       "      <td>3.678066</td>\n",
       "    </tr>\n",
       "    <tr>\n",
       "      <th>2</th>\n",
       "      <td>2.972063</td>\n",
       "      <td>-0.792916</td>\n",
       "      <td>0.506947</td>\n",
       "      <td>0.219934</td>\n",
       "      <td>1.941820</td>\n",
       "      <td>0.219008</td>\n",
       "      <td>0.903819</td>\n",
       "      <td>0.191485</td>\n",
       "      <td>0.644154</td>\n",
       "      <td>-0.484614</td>\n",
       "      <td>...</td>\n",
       "      <td>1.108236</td>\n",
       "      <td>1.253278</td>\n",
       "      <td>0.182205</td>\n",
       "      <td>1.402802</td>\n",
       "      <td>0.434885</td>\n",
       "      <td>0.360935</td>\n",
       "      <td>0.196780</td>\n",
       "      <td>1.298469</td>\n",
       "      <td>0.729166</td>\n",
       "      <td>0.754254</td>\n",
       "    </tr>\n",
       "    <tr>\n",
       "      <th>3</th>\n",
       "      <td>0.337281</td>\n",
       "      <td>-1.045889</td>\n",
       "      <td>-0.577603</td>\n",
       "      <td>0.431713</td>\n",
       "      <td>-0.258476</td>\n",
       "      <td>-1.294482</td>\n",
       "      <td>-0.610557</td>\n",
       "      <td>0.233601</td>\n",
       "      <td>0.702574</td>\n",
       "      <td>-0.469924</td>\n",
       "      <td>...</td>\n",
       "      <td>0.192490</td>\n",
       "      <td>0.081635</td>\n",
       "      <td>0.292015</td>\n",
       "      <td>0.089924</td>\n",
       "      <td>0.314402</td>\n",
       "      <td>0.390531</td>\n",
       "      <td>0.367464</td>\n",
       "      <td>0.252793</td>\n",
       "      <td>0.295148</td>\n",
       "      <td>0.570445</td>\n",
       "    </tr>\n",
       "    <tr>\n",
       "      <th>4</th>\n",
       "      <td>0.015642</td>\n",
       "      <td>-2.153047</td>\n",
       "      <td>-0.738640</td>\n",
       "      <td>0.305797</td>\n",
       "      <td>1.562602</td>\n",
       "      <td>-0.860883</td>\n",
       "      <td>0.182535</td>\n",
       "      <td>0.314294</td>\n",
       "      <td>1.037876</td>\n",
       "      <td>-0.631258</td>\n",
       "      <td>...</td>\n",
       "      <td>0.612393</td>\n",
       "      <td>2.527394</td>\n",
       "      <td>5.850573</td>\n",
       "      <td>1.284003</td>\n",
       "      <td>3.527688</td>\n",
       "      <td>1.852169</td>\n",
       "      <td>0.622027</td>\n",
       "      <td>0.856973</td>\n",
       "      <td>4.097299</td>\n",
       "      <td>0.298385</td>\n",
       "    </tr>\n",
       "    <tr>\n",
       "      <th>...</th>\n",
       "      <td>...</td>\n",
       "      <td>...</td>\n",
       "      <td>...</td>\n",
       "      <td>...</td>\n",
       "      <td>...</td>\n",
       "      <td>...</td>\n",
       "      <td>...</td>\n",
       "      <td>...</td>\n",
       "      <td>...</td>\n",
       "      <td>...</td>\n",
       "      <td>...</td>\n",
       "      <td>...</td>\n",
       "      <td>...</td>\n",
       "      <td>...</td>\n",
       "      <td>...</td>\n",
       "      <td>...</td>\n",
       "      <td>...</td>\n",
       "      <td>...</td>\n",
       "      <td>...</td>\n",
       "      <td>...</td>\n",
       "      <td>...</td>\n",
       "    </tr>\n",
       "    <tr>\n",
       "      <th>777</th>\n",
       "      <td>0.427159</td>\n",
       "      <td>-2.050254</td>\n",
       "      <td>-0.907299</td>\n",
       "      <td>0.352604</td>\n",
       "      <td>3.057501</td>\n",
       "      <td>-1.414874</td>\n",
       "      <td>0.488264</td>\n",
       "      <td>0.370471</td>\n",
       "      <td>0.237183</td>\n",
       "      <td>-1.517656</td>\n",
       "      <td>...</td>\n",
       "      <td>7.312410</td>\n",
       "      <td>7.587643</td>\n",
       "      <td>7.413809</td>\n",
       "      <td>6.735101</td>\n",
       "      <td>6.874923</td>\n",
       "      <td>6.987798</td>\n",
       "      <td>5.091053</td>\n",
       "      <td>4.371228</td>\n",
       "      <td>6.408055</td>\n",
       "      <td>5.192909</td>\n",
       "    </tr>\n",
       "    <tr>\n",
       "      <th>778</th>\n",
       "      <td>1.659451</td>\n",
       "      <td>-1.709527</td>\n",
       "      <td>-0.608731</td>\n",
       "      <td>0.663522</td>\n",
       "      <td>1.549890</td>\n",
       "      <td>-1.247963</td>\n",
       "      <td>0.371269</td>\n",
       "      <td>0.406506</td>\n",
       "      <td>0.713875</td>\n",
       "      <td>-0.996954</td>\n",
       "      <td>...</td>\n",
       "      <td>2.743801</td>\n",
       "      <td>1.582575</td>\n",
       "      <td>3.099657</td>\n",
       "      <td>2.920597</td>\n",
       "      <td>0.820636</td>\n",
       "      <td>1.055903</td>\n",
       "      <td>1.240361</td>\n",
       "      <td>3.047443</td>\n",
       "      <td>1.282748</td>\n",
       "      <td>3.114722</td>\n",
       "    </tr>\n",
       "    <tr>\n",
       "      <th>779</th>\n",
       "      <td>-0.085249</td>\n",
       "      <td>-2.124959</td>\n",
       "      <td>-0.753193</td>\n",
       "      <td>0.252666</td>\n",
       "      <td>1.236138</td>\n",
       "      <td>-0.443533</td>\n",
       "      <td>0.199782</td>\n",
       "      <td>0.300552</td>\n",
       "      <td>0.939270</td>\n",
       "      <td>-0.332901</td>\n",
       "      <td>...</td>\n",
       "      <td>0.358470</td>\n",
       "      <td>1.831463</td>\n",
       "      <td>1.332555</td>\n",
       "      <td>1.075824</td>\n",
       "      <td>2.164495</td>\n",
       "      <td>1.224490</td>\n",
       "      <td>1.277325</td>\n",
       "      <td>1.651631</td>\n",
       "      <td>1.011536</td>\n",
       "      <td>2.111658</td>\n",
       "    </tr>\n",
       "    <tr>\n",
       "      <th>780</th>\n",
       "      <td>1.438345</td>\n",
       "      <td>0.536568</td>\n",
       "      <td>0.958903</td>\n",
       "      <td>0.164880</td>\n",
       "      <td>0.076427</td>\n",
       "      <td>-0.580191</td>\n",
       "      <td>-0.320975</td>\n",
       "      <td>0.120706</td>\n",
       "      <td>0.097833</td>\n",
       "      <td>-0.774209</td>\n",
       "      <td>...</td>\n",
       "      <td>3.139355</td>\n",
       "      <td>1.750927</td>\n",
       "      <td>1.372878</td>\n",
       "      <td>3.047922</td>\n",
       "      <td>0.959172</td>\n",
       "      <td>1.743673</td>\n",
       "      <td>2.232256</td>\n",
       "      <td>2.384429</td>\n",
       "      <td>0.467780</td>\n",
       "      <td>2.318288</td>\n",
       "    </tr>\n",
       "    <tr>\n",
       "      <th>781</th>\n",
       "      <td>0.224194</td>\n",
       "      <td>-1.534616</td>\n",
       "      <td>-0.781752</td>\n",
       "      <td>0.323766</td>\n",
       "      <td>0.144179</td>\n",
       "      <td>-0.958351</td>\n",
       "      <td>-0.369244</td>\n",
       "      <td>0.219289</td>\n",
       "      <td>1.033111</td>\n",
       "      <td>-0.539595</td>\n",
       "      <td>...</td>\n",
       "      <td>0.871557</td>\n",
       "      <td>0.608907</td>\n",
       "      <td>0.842374</td>\n",
       "      <td>0.322576</td>\n",
       "      <td>0.750755</td>\n",
       "      <td>0.473988</td>\n",
       "      <td>0.355294</td>\n",
       "      <td>0.375512</td>\n",
       "      <td>0.088557</td>\n",
       "      <td>0.774501</td>\n",
       "    </tr>\n",
       "  </tbody>\n",
       "</table>\n",
       "<p>782 rows × 333 columns</p>\n",
       "</div>"
      ],
      "text/plain": [
       "     (acc_x, max)  (acc_x, min)  (acc_x, mean)  (acc_x, std)  (acc_y, max)  \\\n",
       "0       -0.275446     -1.564000      -1.018731      0.236232      0.228040   \n",
       "1        0.627571     -1.929033      -0.522843      0.539688      1.708743   \n",
       "2        2.972063     -0.792916       0.506947      0.219934      1.941820   \n",
       "3        0.337281     -1.045889      -0.577603      0.431713     -0.258476   \n",
       "4        0.015642     -2.153047      -0.738640      0.305797      1.562602   \n",
       "..            ...           ...            ...           ...           ...   \n",
       "777      0.427159     -2.050254      -0.907299      0.352604      3.057501   \n",
       "778      1.659451     -1.709527      -0.608731      0.663522      1.549890   \n",
       "779     -0.085249     -2.124959      -0.753193      0.252666      1.236138   \n",
       "780      1.438345      0.536568       0.958903      0.164880      0.076427   \n",
       "781      0.224194     -1.534616      -0.781752      0.323766      0.144179   \n",
       "\n",
       "     (acc_y, min)  (acc_y, mean)  (acc_y, std)  (acc_z, max)  (acc_z, min)  \\\n",
       "0       -0.470937      -0.019574      0.091641      0.286182     -0.573836   \n",
       "1       -0.200678       0.612161      0.333015      0.671876     -1.212052   \n",
       "2        0.219008       0.903819      0.191485      0.644154     -0.484614   \n",
       "3       -1.294482      -0.610557      0.233601      0.702574     -0.469924   \n",
       "4       -0.860883       0.182535      0.314294      1.037876     -0.631258   \n",
       "..            ...            ...           ...           ...           ...   \n",
       "777     -1.414874       0.488264      0.370471      0.237183     -1.517656   \n",
       "778     -1.247963       0.371269      0.406506      0.713875     -0.996954   \n",
       "779     -0.443533       0.199782      0.300552      0.939270     -0.332901   \n",
       "780     -0.580191      -0.320975      0.120706      0.097833     -0.774209   \n",
       "781     -0.958351      -0.369244      0.219289      1.033111     -0.539595   \n",
       "\n",
       "     ...  gy_t__292  gy_t__293  gy_t__294  gy_t__295  gy_t__296  gy_t__297  \\\n",
       "0    ...   2.409821   2.257558   1.843405   0.911961   1.191994   1.389685   \n",
       "1    ...   2.500361   2.397393   0.550313   2.571511   1.384850   2.078676   \n",
       "2    ...   1.108236   1.253278   0.182205   1.402802   0.434885   0.360935   \n",
       "3    ...   0.192490   0.081635   0.292015   0.089924   0.314402   0.390531   \n",
       "4    ...   0.612393   2.527394   5.850573   1.284003   3.527688   1.852169   \n",
       "..   ...        ...        ...        ...        ...        ...        ...   \n",
       "777  ...   7.312410   7.587643   7.413809   6.735101   6.874923   6.987798   \n",
       "778  ...   2.743801   1.582575   3.099657   2.920597   0.820636   1.055903   \n",
       "779  ...   0.358470   1.831463   1.332555   1.075824   2.164495   1.224490   \n",
       "780  ...   3.139355   1.750927   1.372878   3.047922   0.959172   1.743673   \n",
       "781  ...   0.871557   0.608907   0.842374   0.322576   0.750755   0.473988   \n",
       "\n",
       "     gy_t__298  gy_t__299  gy_t__300  gy_t__301  \n",
       "0     0.774847   1.264183   1.169758   1.337552  \n",
       "1     2.527210   2.137230   1.282196   3.678066  \n",
       "2     0.196780   1.298469   0.729166   0.754254  \n",
       "3     0.367464   0.252793   0.295148   0.570445  \n",
       "4     0.622027   0.856973   4.097299   0.298385  \n",
       "..         ...        ...        ...        ...  \n",
       "777   5.091053   4.371228   6.408055   5.192909  \n",
       "778   1.240361   3.047443   1.282748   3.114722  \n",
       "779   1.277325   1.651631   1.011536   2.111658  \n",
       "780   2.232256   2.384429   0.467780   2.318288  \n",
       "781   0.355294   0.375512   0.088557   0.774501  \n",
       "\n",
       "[782 rows x 333 columns]"
      ]
     },
     "execution_count": 15,
     "metadata": {},
     "output_type": "execute_result"
    }
   ],
   "source": [
    "X_test"
   ]
  },
  {
   "cell_type": "code",
   "execution_count": 4,
   "metadata": {},
   "outputs": [],
   "source": [
    "from sklearn.preprocessing import MinMaxScaler\n",
    "\n",
    "scaler = MinMaxScaler()\n",
    "scaler.fit(X_train)\n",
    "X_train_scaled = scaler.transform(X_train)"
   ]
  },
  {
   "cell_type": "code",
   "execution_count": 28,
   "metadata": {},
   "outputs": [],
   "source": [
    "from sklearn.model_selection import train_test_split\n",
    "\n",
    "dx_train, dx_test, dy_train, dy_test = train_test_split(X_train_scaled, y_train, test_size=0.2, random_state=42, shuffle=True)"
   ]
  },
  {
   "cell_type": "markdown",
   "metadata": {},
   "source": [
    "# SVC"
   ]
  },
  {
   "cell_type": "code",
   "execution_count": 142,
   "metadata": {},
   "outputs": [],
   "source": [
    "from sklearn.svm import SVC\n",
    "\n",
    "svm = SVC(kernel= 'rbf', C=180, gamma=0.25, probability=True)"
   ]
  },
  {
   "cell_type": "code",
   "execution_count": 143,
   "metadata": {},
   "outputs": [
    {
     "data": {
      "text/plain": [
       "SVC(C=180, gamma=0.25, probability=True)"
      ]
     },
     "execution_count": 143,
     "metadata": {},
     "output_type": "execute_result"
    }
   ],
   "source": [
    "svm.fit(dx_train, dy_train)"
   ]
  },
  {
   "cell_type": "code",
   "execution_count": 163,
   "metadata": {},
   "outputs": [],
   "source": [
    "svm_pred = svm.predict(X_test_scaled)"
   ]
  },
  {
   "cell_type": "code",
   "execution_count": 30,
   "metadata": {},
   "outputs": [
    {
     "name": "stdout",
     "output_type": "stream",
     "text": [
      "Accuracy: 80.64%\n"
     ]
    }
   ],
   "source": [
    "print(\"Accuracy: {}%\".format(svm.score(dx_test, dy_test) * 100 ))"
   ]
  },
  {
   "cell_type": "markdown",
   "metadata": {},
   "source": [
    "Accuracy: 80.32000000000001% 1300 0.1 acc 푸리에변환"
   ]
  },
  {
   "cell_type": "markdown",
   "metadata": {},
   "source": [
    "Accuracy: 79.2% C=2150, gamma=0.005 acc + gy 푸리에변환"
   ]
  },
  {
   "cell_type": "markdown",
   "metadata": {},
   "source": [
    "80.80000000000001% SVC(C=100, gamma=0.35, probability=True)   t만"
   ]
  },
  {
   "cell_type": "markdown",
   "metadata": {},
   "source": [
    "Accuracy: 80.47999999999999%  SVC(C=150, gamma=0.28, probability=True)  2차원도"
   ]
  },
  {
   "cell_type": "markdown",
   "metadata": {},
   "source": [
    "Accuracy: 80.64% SVC(C=180, gamma=0.25, probability=True) total"
   ]
  },
  {
   "cell_type": "markdown",
   "metadata": {},
   "source": [
    "# Bagging + SVC"
   ]
  },
  {
   "cell_type": "code",
   "execution_count": 145,
   "metadata": {},
   "outputs": [],
   "source": [
    "from sklearn.ensemble import BaggingClassifier"
   ]
  },
  {
   "cell_type": "code",
   "execution_count": 146,
   "metadata": {},
   "outputs": [],
   "source": [
    "from sklearn.ensemble import BaggingClassifier\n",
    "bagging = BaggingClassifier(svm, n_estimators=150, oob_score=True, n_jobs=-1, random_state=42)"
   ]
  },
  {
   "cell_type": "code",
   "execution_count": 147,
   "metadata": {},
   "outputs": [
    {
     "name": "stdout",
     "output_type": "stream",
     "text": [
      "Accuracy: 77.12%\n"
     ]
    }
   ],
   "source": [
    "bagging.fit(dx_train, dy_train)\n",
    "print(\"Accuracy: {}%\".format(bagging.score(dx_test, dy_test) * 100 ))"
   ]
  },
  {
   "cell_type": "code",
   "execution_count": 164,
   "metadata": {},
   "outputs": [],
   "source": [
    "bagging_pred = bagging.predict(X_test_scaled)"
   ]
  },
  {
   "cell_type": "markdown",
   "metadata": {},
   "source": [
    "Accuracy: 81.44%bagging = BaggingClassifier(SVC(C=150, gamma=0.28), n_estimators=180, oob_score=True, n_jobs=-1, random_state=42)"
   ]
  },
  {
   "cell_type": "markdown",
   "metadata": {},
   "source": [
    "# K-Fold + Bagging + SVC"
   ]
  },
  {
   "cell_type": "code",
   "execution_count": 67,
   "metadata": {},
   "outputs": [
    {
     "name": "stdout",
     "output_type": "stream",
     "text": [
      "교차 검증 점수: [0.7872 0.7968 0.8    0.8048 0.8032]\n",
      "교차 검증 평균 점수: 0.80\n"
     ]
    }
   ],
   "source": [
    "from sklearn.model_selection import cross_val_score\n",
    "\n",
    "scores = cross_val_score(bagging, X_train_scaled, y_train)\n",
    "print(\"교차 검증 점수: {}\".format(scores))\n",
    "print(\"교차 검증 평균 점수: {:.2f}\".format(scores.mean()))"
   ]
  },
  {
   "cell_type": "markdown",
   "metadata": {},
   "source": [
    "교차 검증 점수: [0.8096 0.7728 0.8064 0.8016 0.8096]\n",
    "교차 검증 평균 점수: 0.80  bagging"
   ]
  },
  {
   "cell_type": "markdown",
   "metadata": {},
   "source": [
    "교차 검증 점수: [0.8128 0.7728 0.8096 0.8032 0.8144]\n",
    "교차 검증 평균 점수: 0.80\n",
    "svm"
   ]
  },
  {
   "cell_type": "markdown",
   "metadata": {},
   "source": [
    "교차 검증 점수: [0.8096 0.7696 0.808  0.7968 0.8096]\n",
    "교차 검증 평균 점수: 0.80 lgbm"
   ]
  },
  {
   "cell_type": "markdown",
   "metadata": {},
   "source": [
    "# RandomForest"
   ]
  },
  {
   "cell_type": "code",
   "execution_count": 149,
   "metadata": {},
   "outputs": [],
   "source": [
    "from sklearn.ensemble import RandomForestClassifier\n",
    "\n",
    "rf = RandomForestClassifier(criterion='entropy', n_estimators=2000, n_jobs=20, random_state=42)"
   ]
  },
  {
   "cell_type": "code",
   "execution_count": 150,
   "metadata": {},
   "outputs": [
    {
     "data": {
      "text/plain": [
       "RandomForestClassifier(criterion='entropy', n_estimators=2000, n_jobs=20,\n",
       "                       random_state=42)"
      ]
     },
     "execution_count": 150,
     "metadata": {},
     "output_type": "execute_result"
    }
   ],
   "source": [
    "rf.fit(dx_train, dy_train)"
   ]
  },
  {
   "cell_type": "code",
   "execution_count": 165,
   "metadata": {},
   "outputs": [],
   "source": [
    "rf_pred = rf.predict(X_test_scaled)"
   ]
  },
  {
   "cell_type": "code",
   "execution_count": 105,
   "metadata": {},
   "outputs": [
    {
     "name": "stdout",
     "output_type": "stream",
     "text": [
      "Accuracy: 75.36%\n"
     ]
    }
   ],
   "source": [
    "print(\"Accuracy: {}%\".format(rf.score(dx_test, dy_test) * 100 ))"
   ]
  },
  {
   "cell_type": "markdown",
   "metadata": {},
   "source": [
    "Accuracy: 68.32000000000001% 800"
   ]
  },
  {
   "cell_type": "markdown",
   "metadata": {},
   "source": [
    "# LGBM"
   ]
  },
  {
   "cell_type": "code",
   "execution_count": 20,
   "metadata": {},
   "outputs": [],
   "source": [
    "from catboost import CatBoostClassifier, Pool\n",
    "from lightgbm import LGBMClassifier\n",
    "from sklearn.model_selection import KFold"
   ]
  },
  {
   "cell_type": "code",
   "execution_count": 152,
   "metadata": {},
   "outputs": [],
   "source": [
    "from sklearn.metrics import log_loss\n",
    "import time\n",
    "from sklearn.model_selection import StratifiedKFold, cross_val_score\n",
    "from bayes_opt import BayesianOptimization"
   ]
  },
  {
   "cell_type": "code",
   "execution_count": 153,
   "metadata": {},
   "outputs": [],
   "source": [
    "ml = LGBMClassifier(learning_rate=0.05, max_depth=10, n_estimators=1300, num_leaves=1024)"
   ]
  },
  {
   "cell_type": "code",
   "execution_count": 154,
   "metadata": {},
   "outputs": [
    {
     "data": {
      "text/plain": [
       "LGBMClassifier(learning_rate=0.05, max_depth=10, n_estimators=1300,\n",
       "               num_leaves=1024)"
      ]
     },
     "execution_count": 154,
     "metadata": {},
     "output_type": "execute_result"
    }
   ],
   "source": [
    "ml.fit(dx_train, dy_train, eval_metric = 'logloss')"
   ]
  },
  {
   "cell_type": "code",
   "execution_count": 166,
   "metadata": {},
   "outputs": [],
   "source": [
    "lgb_pred = ml.predict(X_test_scaled)"
   ]
  },
  {
   "cell_type": "code",
   "execution_count": 28,
   "metadata": {},
   "outputs": [
    {
     "name": "stdout",
     "output_type": "stream",
     "text": [
      "Accuracy: 77.44%\n"
     ]
    }
   ],
   "source": [
    "print(\"Accuracy: {}%\".format(ml.score(dx_test, dy_test) * 100 ))"
   ]
  },
  {
   "cell_type": "markdown",
   "metadata": {},
   "source": [
    "LGBMClassifier(learning_rate=0.05, max_depth=10, n_estimators=1300,\n",
    "               num_leaves=1024)\n",
    "Accuracy: 77.12%"
   ]
  },
  {
   "cell_type": "code",
   "execution_count": 11,
   "metadata": {},
   "outputs": [],
   "source": [
    "X_test_scaled = scaler.transform(X_test)"
   ]
  },
  {
   "cell_type": "code",
   "execution_count": 39,
   "metadata": {},
   "outputs": [],
   "source": [
    "y_pred = svm.predict_proba(X_test_scaled)"
   ]
  },
  {
   "cell_type": "code",
   "execution_count": 40,
   "metadata": {},
   "outputs": [
    {
     "data": {
      "text/plain": [
       "(782, 61)"
      ]
     },
     "execution_count": 40,
     "metadata": {},
     "output_type": "execute_result"
    }
   ],
   "source": [
    "y_pred.shape"
   ]
  },
  {
   "cell_type": "markdown",
   "metadata": {},
   "source": [
    "# Ensemble"
   ]
  },
  {
   "cell_type": "code",
   "execution_count": 167,
   "metadata": {},
   "outputs": [
    {
     "name": "stdout",
     "output_type": "stream",
     "text": [
      "(4, 782)\n"
     ]
    }
   ],
   "source": [
    "pred = np.array([rf_pred, svm_pred, lgb_pred, bagging_pred])\n",
    "print(pred.shape)"
   ]
  },
  {
   "cell_type": "code",
   "execution_count": 168,
   "metadata": {},
   "outputs": [
    {
     "name": "stdout",
     "output_type": "stream",
     "text": [
      "(782, 4)\n"
     ]
    }
   ],
   "source": [
    "pred = np.transpose(pred)\n",
    "print(pred.shape)"
   ]
  },
  {
   "cell_type": "code",
   "execution_count": 158,
   "metadata": {},
   "outputs": [],
   "source": [
    "lr_final = SVC(kernel= 'rbf', C=180, gamma=0.25, probability=True)"
   ]
  },
  {
   "cell_type": "code",
   "execution_count": 159,
   "metadata": {},
   "outputs": [
    {
     "data": {
      "text/plain": [
       "SVC(C=180, gamma=0.25, probability=True)"
      ]
     },
     "execution_count": 159,
     "metadata": {},
     "output_type": "execute_result"
    }
   ],
   "source": [
    "lr_final.fit(pred, dy_test)"
   ]
  },
  {
   "cell_type": "code",
   "execution_count": 171,
   "metadata": {},
   "outputs": [],
   "source": [
    "final = lr_final.predict_proba(pred)"
   ]
  },
  {
   "cell_type": "code",
   "execution_count": 161,
   "metadata": {},
   "outputs": [],
   "source": [
    "from sklearn.metrics import accuracy_score"
   ]
  },
  {
   "cell_type": "code",
   "execution_count": 162,
   "metadata": {
    "scrolled": true
   },
   "outputs": [
    {
     "name": "stdout",
     "output_type": "stream",
     "text": [
      "최종 메타 모델의 예측 정확도: 0.9056\n"
     ]
    }
   ],
   "source": [
    "print('최종 메타 모델의 예측 정확도: {0:.4f}'.format(accuracy_score(dy_test , final)))"
   ]
  },
  {
   "cell_type": "code",
   "execution_count": 172,
   "metadata": {},
   "outputs": [
    {
     "data": {
      "text/html": [
       "<div>\n",
       "<style scoped>\n",
       "    .dataframe tbody tr th:only-of-type {\n",
       "        vertical-align: middle;\n",
       "    }\n",
       "\n",
       "    .dataframe tbody tr th {\n",
       "        vertical-align: top;\n",
       "    }\n",
       "\n",
       "    .dataframe thead th {\n",
       "        text-align: right;\n",
       "    }\n",
       "</style>\n",
       "<table border=\"1\" class=\"dataframe\">\n",
       "  <thead>\n",
       "    <tr style=\"text-align: right;\">\n",
       "      <th></th>\n",
       "      <th>id</th>\n",
       "      <th>0</th>\n",
       "      <th>1</th>\n",
       "      <th>2</th>\n",
       "      <th>3</th>\n",
       "      <th>4</th>\n",
       "      <th>5</th>\n",
       "      <th>6</th>\n",
       "      <th>7</th>\n",
       "      <th>8</th>\n",
       "      <th>...</th>\n",
       "      <th>51</th>\n",
       "      <th>52</th>\n",
       "      <th>53</th>\n",
       "      <th>54</th>\n",
       "      <th>55</th>\n",
       "      <th>56</th>\n",
       "      <th>57</th>\n",
       "      <th>58</th>\n",
       "      <th>59</th>\n",
       "      <th>60</th>\n",
       "    </tr>\n",
       "  </thead>\n",
       "  <tbody>\n",
       "    <tr>\n",
       "      <th>0</th>\n",
       "      <td>3125</td>\n",
       "      <td>0.013972</td>\n",
       "      <td>0.023891</td>\n",
       "      <td>0.018355</td>\n",
       "      <td>0.006857</td>\n",
       "      <td>0.009440</td>\n",
       "      <td>0.013553</td>\n",
       "      <td>0.023414</td>\n",
       "      <td>0.028291</td>\n",
       "      <td>0.026208</td>\n",
       "      <td>...</td>\n",
       "      <td>0.008401</td>\n",
       "      <td>0.018673</td>\n",
       "      <td>0.013141</td>\n",
       "      <td>0.008309</td>\n",
       "      <td>0.020276</td>\n",
       "      <td>0.009534</td>\n",
       "      <td>0.008103</td>\n",
       "      <td>0.008394</td>\n",
       "      <td>0.003294</td>\n",
       "      <td>0.019987</td>\n",
       "    </tr>\n",
       "    <tr>\n",
       "      <th>1</th>\n",
       "      <td>3126</td>\n",
       "      <td>0.002628</td>\n",
       "      <td>0.001868</td>\n",
       "      <td>0.001993</td>\n",
       "      <td>0.001230</td>\n",
       "      <td>0.000948</td>\n",
       "      <td>0.003082</td>\n",
       "      <td>0.004890</td>\n",
       "      <td>0.004966</td>\n",
       "      <td>0.003461</td>\n",
       "      <td>...</td>\n",
       "      <td>0.000987</td>\n",
       "      <td>0.001807</td>\n",
       "      <td>0.001492</td>\n",
       "      <td>0.000895</td>\n",
       "      <td>0.001672</td>\n",
       "      <td>0.000858</td>\n",
       "      <td>0.001029</td>\n",
       "      <td>0.001017</td>\n",
       "      <td>0.000535</td>\n",
       "      <td>0.007372</td>\n",
       "    </tr>\n",
       "    <tr>\n",
       "      <th>2</th>\n",
       "      <td>3127</td>\n",
       "      <td>0.013442</td>\n",
       "      <td>0.024030</td>\n",
       "      <td>0.017931</td>\n",
       "      <td>0.006240</td>\n",
       "      <td>0.008934</td>\n",
       "      <td>0.012875</td>\n",
       "      <td>0.023129</td>\n",
       "      <td>0.028197</td>\n",
       "      <td>0.025841</td>\n",
       "      <td>...</td>\n",
       "      <td>0.007784</td>\n",
       "      <td>0.018271</td>\n",
       "      <td>0.012617</td>\n",
       "      <td>0.007813</td>\n",
       "      <td>0.019590</td>\n",
       "      <td>0.009044</td>\n",
       "      <td>0.007668</td>\n",
       "      <td>0.008080</td>\n",
       "      <td>0.003030</td>\n",
       "      <td>0.019275</td>\n",
       "    </tr>\n",
       "    <tr>\n",
       "      <th>3</th>\n",
       "      <td>3128</td>\n",
       "      <td>0.002628</td>\n",
       "      <td>0.001868</td>\n",
       "      <td>0.001993</td>\n",
       "      <td>0.001230</td>\n",
       "      <td>0.000948</td>\n",
       "      <td>0.003082</td>\n",
       "      <td>0.004890</td>\n",
       "      <td>0.004966</td>\n",
       "      <td>0.003461</td>\n",
       "      <td>...</td>\n",
       "      <td>0.000987</td>\n",
       "      <td>0.001807</td>\n",
       "      <td>0.001492</td>\n",
       "      <td>0.000895</td>\n",
       "      <td>0.001672</td>\n",
       "      <td>0.000858</td>\n",
       "      <td>0.001029</td>\n",
       "      <td>0.001017</td>\n",
       "      <td>0.000535</td>\n",
       "      <td>0.007372</td>\n",
       "    </tr>\n",
       "    <tr>\n",
       "      <th>4</th>\n",
       "      <td>3129</td>\n",
       "      <td>0.002628</td>\n",
       "      <td>0.001868</td>\n",
       "      <td>0.001993</td>\n",
       "      <td>0.001230</td>\n",
       "      <td>0.000948</td>\n",
       "      <td>0.003082</td>\n",
       "      <td>0.004890</td>\n",
       "      <td>0.004966</td>\n",
       "      <td>0.003461</td>\n",
       "      <td>...</td>\n",
       "      <td>0.000987</td>\n",
       "      <td>0.001807</td>\n",
       "      <td>0.001492</td>\n",
       "      <td>0.000895</td>\n",
       "      <td>0.001672</td>\n",
       "      <td>0.000858</td>\n",
       "      <td>0.001029</td>\n",
       "      <td>0.001017</td>\n",
       "      <td>0.000535</td>\n",
       "      <td>0.007372</td>\n",
       "    </tr>\n",
       "    <tr>\n",
       "      <th>...</th>\n",
       "      <td>...</td>\n",
       "      <td>...</td>\n",
       "      <td>...</td>\n",
       "      <td>...</td>\n",
       "      <td>...</td>\n",
       "      <td>...</td>\n",
       "      <td>...</td>\n",
       "      <td>...</td>\n",
       "      <td>...</td>\n",
       "      <td>...</td>\n",
       "      <td>...</td>\n",
       "      <td>...</td>\n",
       "      <td>...</td>\n",
       "      <td>...</td>\n",
       "      <td>...</td>\n",
       "      <td>...</td>\n",
       "      <td>...</td>\n",
       "      <td>...</td>\n",
       "      <td>...</td>\n",
       "      <td>...</td>\n",
       "      <td>...</td>\n",
       "    </tr>\n",
       "    <tr>\n",
       "      <th>777</th>\n",
       "      <td>3902</td>\n",
       "      <td>0.002628</td>\n",
       "      <td>0.001868</td>\n",
       "      <td>0.001993</td>\n",
       "      <td>0.001230</td>\n",
       "      <td>0.000948</td>\n",
       "      <td>0.003082</td>\n",
       "      <td>0.004890</td>\n",
       "      <td>0.004966</td>\n",
       "      <td>0.003461</td>\n",
       "      <td>...</td>\n",
       "      <td>0.000987</td>\n",
       "      <td>0.001807</td>\n",
       "      <td>0.001492</td>\n",
       "      <td>0.000895</td>\n",
       "      <td>0.001672</td>\n",
       "      <td>0.000858</td>\n",
       "      <td>0.001029</td>\n",
       "      <td>0.001017</td>\n",
       "      <td>0.000535</td>\n",
       "      <td>0.007372</td>\n",
       "    </tr>\n",
       "    <tr>\n",
       "      <th>778</th>\n",
       "      <td>3903</td>\n",
       "      <td>0.002628</td>\n",
       "      <td>0.001868</td>\n",
       "      <td>0.001993</td>\n",
       "      <td>0.001230</td>\n",
       "      <td>0.000948</td>\n",
       "      <td>0.003082</td>\n",
       "      <td>0.004890</td>\n",
       "      <td>0.004966</td>\n",
       "      <td>0.003461</td>\n",
       "      <td>...</td>\n",
       "      <td>0.000987</td>\n",
       "      <td>0.001807</td>\n",
       "      <td>0.001492</td>\n",
       "      <td>0.000895</td>\n",
       "      <td>0.001672</td>\n",
       "      <td>0.000858</td>\n",
       "      <td>0.001029</td>\n",
       "      <td>0.001017</td>\n",
       "      <td>0.000535</td>\n",
       "      <td>0.007372</td>\n",
       "    </tr>\n",
       "    <tr>\n",
       "      <th>779</th>\n",
       "      <td>3904</td>\n",
       "      <td>0.002628</td>\n",
       "      <td>0.001868</td>\n",
       "      <td>0.001993</td>\n",
       "      <td>0.001230</td>\n",
       "      <td>0.000948</td>\n",
       "      <td>0.003082</td>\n",
       "      <td>0.004890</td>\n",
       "      <td>0.004966</td>\n",
       "      <td>0.003461</td>\n",
       "      <td>...</td>\n",
       "      <td>0.000987</td>\n",
       "      <td>0.001807</td>\n",
       "      <td>0.001492</td>\n",
       "      <td>0.000895</td>\n",
       "      <td>0.001672</td>\n",
       "      <td>0.000858</td>\n",
       "      <td>0.001029</td>\n",
       "      <td>0.001017</td>\n",
       "      <td>0.000535</td>\n",
       "      <td>0.007372</td>\n",
       "    </tr>\n",
       "    <tr>\n",
       "      <th>780</th>\n",
       "      <td>3905</td>\n",
       "      <td>0.014662</td>\n",
       "      <td>0.022862</td>\n",
       "      <td>0.019056</td>\n",
       "      <td>0.007341</td>\n",
       "      <td>0.009575</td>\n",
       "      <td>0.013203</td>\n",
       "      <td>0.020970</td>\n",
       "      <td>0.024595</td>\n",
       "      <td>0.021717</td>\n",
       "      <td>...</td>\n",
       "      <td>0.008612</td>\n",
       "      <td>0.018528</td>\n",
       "      <td>0.014223</td>\n",
       "      <td>0.008564</td>\n",
       "      <td>0.018890</td>\n",
       "      <td>0.009581</td>\n",
       "      <td>0.008349</td>\n",
       "      <td>0.008468</td>\n",
       "      <td>0.003647</td>\n",
       "      <td>0.018605</td>\n",
       "    </tr>\n",
       "    <tr>\n",
       "      <th>781</th>\n",
       "      <td>3906</td>\n",
       "      <td>0.002628</td>\n",
       "      <td>0.001868</td>\n",
       "      <td>0.001993</td>\n",
       "      <td>0.001230</td>\n",
       "      <td>0.000948</td>\n",
       "      <td>0.003082</td>\n",
       "      <td>0.004890</td>\n",
       "      <td>0.004966</td>\n",
       "      <td>0.003461</td>\n",
       "      <td>...</td>\n",
       "      <td>0.000987</td>\n",
       "      <td>0.001807</td>\n",
       "      <td>0.001492</td>\n",
       "      <td>0.000895</td>\n",
       "      <td>0.001672</td>\n",
       "      <td>0.000858</td>\n",
       "      <td>0.001029</td>\n",
       "      <td>0.001017</td>\n",
       "      <td>0.000535</td>\n",
       "      <td>0.007372</td>\n",
       "    </tr>\n",
       "  </tbody>\n",
       "</table>\n",
       "<p>782 rows × 62 columns</p>\n",
       "</div>"
      ],
      "text/plain": [
       "       id         0         1         2         3         4         5  \\\n",
       "0    3125  0.013972  0.023891  0.018355  0.006857  0.009440  0.013553   \n",
       "1    3126  0.002628  0.001868  0.001993  0.001230  0.000948  0.003082   \n",
       "2    3127  0.013442  0.024030  0.017931  0.006240  0.008934  0.012875   \n",
       "3    3128  0.002628  0.001868  0.001993  0.001230  0.000948  0.003082   \n",
       "4    3129  0.002628  0.001868  0.001993  0.001230  0.000948  0.003082   \n",
       "..    ...       ...       ...       ...       ...       ...       ...   \n",
       "777  3902  0.002628  0.001868  0.001993  0.001230  0.000948  0.003082   \n",
       "778  3903  0.002628  0.001868  0.001993  0.001230  0.000948  0.003082   \n",
       "779  3904  0.002628  0.001868  0.001993  0.001230  0.000948  0.003082   \n",
       "780  3905  0.014662  0.022862  0.019056  0.007341  0.009575  0.013203   \n",
       "781  3906  0.002628  0.001868  0.001993  0.001230  0.000948  0.003082   \n",
       "\n",
       "            6         7         8  ...        51        52        53  \\\n",
       "0    0.023414  0.028291  0.026208  ...  0.008401  0.018673  0.013141   \n",
       "1    0.004890  0.004966  0.003461  ...  0.000987  0.001807  0.001492   \n",
       "2    0.023129  0.028197  0.025841  ...  0.007784  0.018271  0.012617   \n",
       "3    0.004890  0.004966  0.003461  ...  0.000987  0.001807  0.001492   \n",
       "4    0.004890  0.004966  0.003461  ...  0.000987  0.001807  0.001492   \n",
       "..        ...       ...       ...  ...       ...       ...       ...   \n",
       "777  0.004890  0.004966  0.003461  ...  0.000987  0.001807  0.001492   \n",
       "778  0.004890  0.004966  0.003461  ...  0.000987  0.001807  0.001492   \n",
       "779  0.004890  0.004966  0.003461  ...  0.000987  0.001807  0.001492   \n",
       "780  0.020970  0.024595  0.021717  ...  0.008612  0.018528  0.014223   \n",
       "781  0.004890  0.004966  0.003461  ...  0.000987  0.001807  0.001492   \n",
       "\n",
       "           54        55        56        57        58        59        60  \n",
       "0    0.008309  0.020276  0.009534  0.008103  0.008394  0.003294  0.019987  \n",
       "1    0.000895  0.001672  0.000858  0.001029  0.001017  0.000535  0.007372  \n",
       "2    0.007813  0.019590  0.009044  0.007668  0.008080  0.003030  0.019275  \n",
       "3    0.000895  0.001672  0.000858  0.001029  0.001017  0.000535  0.007372  \n",
       "4    0.000895  0.001672  0.000858  0.001029  0.001017  0.000535  0.007372  \n",
       "..        ...       ...       ...       ...       ...       ...       ...  \n",
       "777  0.000895  0.001672  0.000858  0.001029  0.001017  0.000535  0.007372  \n",
       "778  0.000895  0.001672  0.000858  0.001029  0.001017  0.000535  0.007372  \n",
       "779  0.000895  0.001672  0.000858  0.001029  0.001017  0.000535  0.007372  \n",
       "780  0.008564  0.018890  0.009581  0.008349  0.008468  0.003647  0.018605  \n",
       "781  0.000895  0.001672  0.000858  0.001029  0.001017  0.000535  0.007372  \n",
       "\n",
       "[782 rows x 62 columns]"
      ]
     },
     "execution_count": 172,
     "metadata": {},
     "output_type": "execute_result"
    }
   ],
   "source": [
    "submission.iloc[:,1:] = final\n",
    "submission"
   ]
  },
  {
   "cell_type": "code",
   "execution_count": 173,
   "metadata": {},
   "outputs": [],
   "source": [
    "submission.to_csv('./output/Fourier_MinMaxScaler_SVM_+gy+total_std_all_stacking.csv', index=False)"
   ]
  },
  {
   "cell_type": "code",
   "execution_count": null,
   "metadata": {},
   "outputs": [],
   "source": []
  }
 ],
 "metadata": {
  "kernelspec": {
   "display_name": "Python 3",
   "language": "python",
   "name": "python3"
  },
  "language_info": {
   "codemirror_mode": {
    "name": "ipython",
    "version": 3
   },
   "file_extension": ".py",
   "mimetype": "text/x-python",
   "name": "python",
   "nbconvert_exporter": "python",
   "pygments_lexer": "ipython3",
   "version": "3.6.9"
  }
 },
 "nbformat": 4,
 "nbformat_minor": 4
}
