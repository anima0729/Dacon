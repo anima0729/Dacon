{
 "cells": [
  {
   "cell_type": "code",
   "execution_count": 3,
   "id": "brilliant-addition",
   "metadata": {},
   "outputs": [],
   "source": [
    "import pandas as pd\n",
    "import numpy as np\n",
    "import seaborn as sns\n",
    "import matplotlib.pyplot as plt\n",
    "\n",
    "import statsmodels.api as sm\n",
    "\n",
    "import warnings \n",
    "warnings.filterwarnings(action='ignore')\n",
    "\n",
    "from matplotlib import font_manager, rc"
   ]
  },
  {
   "cell_type": "code",
   "execution_count": 7,
   "id": "collaborative-surgeon",
   "metadata": {},
   "outputs": [],
   "source": [
    "train = pd.read_csv('./dataset/data/train_date.csv')"
   ]
  },
  {
   "cell_type": "code",
   "execution_count": 13,
   "id": "60b4e0b8",
   "metadata": {},
   "outputs": [],
   "source": [
    "for n, i in enumerate(train[\"석식계\"] == 0):\n",
    "    if i:\n",
    "        train = train.drop([n])"
   ]
  },
  {
   "cell_type": "code",
   "execution_count": 14,
   "id": "registered-basic",
   "metadata": {},
   "outputs": [
    {
     "data": {
      "text/plain": [
       "Index(['일자', '요일', '본사정원수', '본사휴가자수', '본사출장자수', '본사시간외근무명령서승인건수',\n",
       "       '현본사소속재택근무자수', '조식메뉴', '중식메뉴', '석식메뉴', '중식계', '석식계', '년', '월', '일',\n",
       "       '식사가능자', '전주중식계', '전주석식계'],\n",
       "      dtype='object')"
      ]
     },
     "execution_count": 14,
     "metadata": {},
     "output_type": "execute_result"
    }
   ],
   "source": [
    "train.columns"
   ]
  },
  {
   "cell_type": "markdown",
   "id": "residential-petite",
   "metadata": {},
   "source": [
    "## 식사가능자"
   ]
  },
  {
   "cell_type": "code",
   "execution_count": 15,
   "id": "southwest-title",
   "metadata": {},
   "outputs": [],
   "source": [
    "train['식사가능자'] = train['본사정원수'] - train['본사휴가자수'] - train['본사출장자수'] - train['현본사소속재택근무자수']"
   ]
  },
  {
   "cell_type": "markdown",
   "id": "fourth-suicide",
   "metadata": {},
   "source": [
    "## 전주식계"
   ]
  },
  {
   "cell_type": "code",
   "execution_count": 16,
   "id": "perceived-housing",
   "metadata": {},
   "outputs": [
    {
     "data": {
      "text/html": [
       "<div>\n",
       "<style scoped>\n",
       "    .dataframe tbody tr th:only-of-type {\n",
       "        vertical-align: middle;\n",
       "    }\n",
       "\n",
       "    .dataframe tbody tr th {\n",
       "        vertical-align: top;\n",
       "    }\n",
       "\n",
       "    .dataframe thead th {\n",
       "        text-align: right;\n",
       "    }\n",
       "</style>\n",
       "<table border=\"1\" class=\"dataframe\">\n",
       "  <thead>\n",
       "    <tr style=\"text-align: right;\">\n",
       "      <th></th>\n",
       "      <th>중식계</th>\n",
       "      <th>전주중식계</th>\n",
       "      <th>석식계</th>\n",
       "      <th>전주석식계</th>\n",
       "      <th>일자</th>\n",
       "    </tr>\n",
       "  </thead>\n",
       "  <tbody>\n",
       "    <tr>\n",
       "      <th>0</th>\n",
       "      <td>1039.0</td>\n",
       "      <td>1039</td>\n",
       "      <td>331.0</td>\n",
       "      <td>331</td>\n",
       "      <td>2016-02-01</td>\n",
       "    </tr>\n",
       "    <tr>\n",
       "      <th>1</th>\n",
       "      <td>867.0</td>\n",
       "      <td>867</td>\n",
       "      <td>560.0</td>\n",
       "      <td>560</td>\n",
       "      <td>2016-02-02</td>\n",
       "    </tr>\n",
       "    <tr>\n",
       "      <th>2</th>\n",
       "      <td>1017.0</td>\n",
       "      <td>1017</td>\n",
       "      <td>573.0</td>\n",
       "      <td>573</td>\n",
       "      <td>2016-02-03</td>\n",
       "    </tr>\n",
       "    <tr>\n",
       "      <th>3</th>\n",
       "      <td>978.0</td>\n",
       "      <td>978</td>\n",
       "      <td>525.0</td>\n",
       "      <td>525</td>\n",
       "      <td>2016-02-04</td>\n",
       "    </tr>\n",
       "    <tr>\n",
       "      <th>4</th>\n",
       "      <td>925.0</td>\n",
       "      <td>925</td>\n",
       "      <td>330.0</td>\n",
       "      <td>330</td>\n",
       "      <td>2016-02-05</td>\n",
       "    </tr>\n",
       "    <tr>\n",
       "      <th>5</th>\n",
       "      <td>1045.0</td>\n",
       "      <td>978</td>\n",
       "      <td>550.0</td>\n",
       "      <td>525</td>\n",
       "      <td>2016-02-11</td>\n",
       "    </tr>\n",
       "    <tr>\n",
       "      <th>6</th>\n",
       "      <td>909.0</td>\n",
       "      <td>925</td>\n",
       "      <td>598.0</td>\n",
       "      <td>330</td>\n",
       "      <td>2016-02-12</td>\n",
       "    </tr>\n",
       "    <tr>\n",
       "      <th>7</th>\n",
       "      <td>1268.0</td>\n",
       "      <td>1268</td>\n",
       "      <td>672.0</td>\n",
       "      <td>672</td>\n",
       "      <td>2016-02-15</td>\n",
       "    </tr>\n",
       "    <tr>\n",
       "      <th>8</th>\n",
       "      <td>1014.0</td>\n",
       "      <td>1014</td>\n",
       "      <td>523.0</td>\n",
       "      <td>523</td>\n",
       "      <td>2016-02-16</td>\n",
       "    </tr>\n",
       "    <tr>\n",
       "      <th>9</th>\n",
       "      <td>916.0</td>\n",
       "      <td>916</td>\n",
       "      <td>588.0</td>\n",
       "      <td>588</td>\n",
       "      <td>2016-02-17</td>\n",
       "    </tr>\n",
       "  </tbody>\n",
       "</table>\n",
       "</div>"
      ],
      "text/plain": [
       "      중식계  전주중식계    석식계  전주석식계          일자\n",
       "0  1039.0   1039  331.0    331  2016-02-01\n",
       "1   867.0    867  560.0    560  2016-02-02\n",
       "2  1017.0   1017  573.0    573  2016-02-03\n",
       "3   978.0    978  525.0    525  2016-02-04\n",
       "4   925.0    925  330.0    330  2016-02-05\n",
       "5  1045.0    978  550.0    525  2016-02-11\n",
       "6   909.0    925  598.0    330  2016-02-12\n",
       "7  1268.0   1268  672.0    672  2016-02-15\n",
       "8  1014.0   1014  523.0    523  2016-02-16\n",
       "9   916.0    916  588.0    588  2016-02-17"
      ]
     },
     "execution_count": 16,
     "metadata": {},
     "output_type": "execute_result"
    }
   ],
   "source": [
    "from datetime import timedelta\n",
    "train['전주중식계'] = 0\n",
    "train['전주석식계'] = 0\n",
    "idx = pd.DatetimeIndex(train['일자']) + timedelta(weeks=-1)\n",
    "for i in range(len(train)):\n",
    "    try:\n",
    "        train['전주중식계'][i] = train[train['일자'] == str(idx[i])[:10]]['중식계']\n",
    "        train['전주석식계'][i] = train[train['일자'] == str(idx[i])[:10]]['석식계']\n",
    "    except:\n",
    "        train['전주중식계'][i] = train.iloc[i,:]['중식계']\n",
    "        train['전주석식계'][i] = train.iloc[i,:]['석식계']\n",
    "\n",
    "train[['중식계', '전주중식계', '석식계', '전주석식계', '일자']].head(10)"
   ]
  },
  {
   "cell_type": "markdown",
   "id": "increased-greek",
   "metadata": {},
   "source": [
    "## 요일 평균 중식계"
   ]
  },
  {
   "cell_type": "code",
   "execution_count": 17,
   "id": "compact-antique",
   "metadata": {},
   "outputs": [
    {
     "data": {
      "text/plain": [
       "<AxesSubplot:xlabel='요일', ylabel='중식계'>"
      ]
     },
     "execution_count": 17,
     "metadata": {},
     "output_type": "execute_result"
    },
    {
     "data": {
      "image/png": "[encoded data removed]",
      "text/plain": [
       "<Figure size 432x288 with 1 Axes>"
      ]
     },
     "metadata": {
      "needs_background": "light"
     },
     "output_type": "display_data"
    }
   ],
   "source": [
    "sns.barplot(x='요일', y='중식계', data=train)"
   ]
  },
  {
   "cell_type": "code",
   "execution_count": 18,
   "id": "armed-engagement",
   "metadata": {},
   "outputs": [
    {
     "data": {
      "text/plain": [
       "<AxesSubplot:xlabel='요일', ylabel='석식계'>"
      ]
     },
     "execution_count": 18,
     "metadata": {},
     "output_type": "execute_result"
    },
    {
     "data": {
      "image/png": "[encoded data removed]",
      "text/plain": [
       "<Figure size 432x288 with 1 Axes>"
      ]
     },
     "metadata": {
      "needs_background": "light"
     },
     "output_type": "display_data"
    }
   ],
   "source": [
    "sns.barplot(x='요일', y='석식계', data=train)"
   ]
  },
  {
   "cell_type": "code",
   "execution_count": 19,
   "id": "smoking-funds",
   "metadata": {},
   "outputs": [
    {
     "data": {
      "text/plain": [
       "array([ 653.12552301,  823.99180328,  910.33165829, 1144.33195021,\n",
       "        928.0334728 ])"
      ]
     },
     "execution_count": 19,
     "metadata": {},
     "output_type": "execute_result"
    }
   ],
   "source": [
    "train.groupby('요일').mean()['중식계'].values"
   ]
  },
  {
   "cell_type": "code",
   "execution_count": 20,
   "id": "fancy-tomorrow",
   "metadata": {},
   "outputs": [
    {
     "data": {
      "text/plain": [
       "array([408.36820084, 480.40163934, 436.70351759, 538.93360996,\n",
       "       522.30543933])"
      ]
     },
     "execution_count": 20,
     "metadata": {},
     "output_type": "execute_result"
    }
   ],
   "source": [
    "train.groupby('요일').mean()['석식계'].values"
   ]
  },
  {
   "cell_type": "code",
   "execution_count": 21,
   "id": "subject-given",
   "metadata": {},
   "outputs": [],
   "source": [
    "train['요일평균중식계'] = 0\n",
    "tmp = train.groupby('요일').mean()['중식계'].values\n",
    "for i in range(len(tmp)):\n",
    "    train['요일평균중식계'][train['요일'] == i] = tmp[i]"
   ]
  },
  {
   "cell_type": "code",
   "execution_count": 22,
   "id": "happy-surname",
   "metadata": {},
   "outputs": [],
   "source": [
    "train['요일평균석식계'] = 0\n",
    "tmp = train.groupby('요일').mean()['석식계'].values\n",
    "for i in range(len(tmp)):\n",
    "    train['요일평균석식계'][train['요일'] == i] = tmp[i]"
   ]
  },
  {
   "cell_type": "markdown",
   "id": "adopted-catalog",
   "metadata": {},
   "source": [
    "## 월평균 식계"
   ]
  },
  {
   "cell_type": "code",
   "execution_count": 23,
   "id": "hearing-setting",
   "metadata": {},
   "outputs": [
    {
     "data": {
      "text/plain": [
       "<AxesSubplot:xlabel='월', ylabel='중식계'>"
      ]
     },
     "execution_count": 23,
     "metadata": {},
     "output_type": "execute_result"
    },
    {
     "data": {
      "image/png": "[encoded data removed]",
      "text/plain": [
       "<Figure size 432x288 with 1 Axes>"
      ]
     },
     "metadata": {
      "needs_background": "light"
     },
     "output_type": "display_data"
    }
   ],
   "source": [
    "sns.barplot(x='월', y='중식계', data=train)"
   ]
  },
  {
   "cell_type": "code",
   "execution_count": 24,
   "id": "divine-municipality",
   "metadata": {},
   "outputs": [
    {
     "data": {
      "text/plain": [
       "<AxesSubplot:xlabel='월', ylabel='석식계'>"
      ]
     },
     "execution_count": 24,
     "metadata": {},
     "output_type": "execute_result"
    },
    {
     "data": {
      "image/png": "[encoded data removed]",
      "text/plain": [
       "<Figure size 432x288 with 1 Axes>"
      ]
     },
     "metadata": {
      "needs_background": "light"
     },
     "output_type": "display_data"
    }
   ],
   "source": [
    "sns.barplot(x='월', y='석식계', data=train)"
   ]
  },
  {
   "cell_type": "code",
   "execution_count": 25,
   "id": "sufficient-return",
   "metadata": {},
   "outputs": [
    {
     "data": {
      "text/plain": [
       "array([934.27835052, 991.875     , 954.81730769, 882.93      ,\n",
       "       869.03125   , 862.64367816, 852.19626168, 853.79047619,\n",
       "       912.24719101, 920.76404494, 842.33009709, 836.89690722])"
      ]
     },
     "execution_count": 25,
     "metadata": {},
     "output_type": "execute_result"
    }
   ],
   "source": [
    "train.groupby('월').mean()['중식계'].values"
   ]
  },
  {
   "cell_type": "code",
   "execution_count": 26,
   "id": "crazy-petroleum",
   "metadata": {},
   "outputs": [
    {
     "data": {
      "text/plain": [
       "array([442.07216495, 544.11363636, 546.00961538, 495.25      ,\n",
       "       472.44791667, 476.22988506, 449.56074766, 468.23809524,\n",
       "       489.66292135, 497.87640449, 455.33009709, 417.71134021])"
      ]
     },
     "execution_count": 26,
     "metadata": {},
     "output_type": "execute_result"
    }
   ],
   "source": [
    "train.groupby('월').mean()['석식계'].values"
   ]
  },
  {
   "cell_type": "code",
   "execution_count": 27,
   "id": "pointed-omaha",
   "metadata": {},
   "outputs": [],
   "source": [
    "train['월평균중식계'] = 0\n",
    "tmp = train.groupby('월').mean()['중식계']\n",
    "tmp_k = tmp.keys(); tmp_v = tmp.values\n",
    "for i in tmp_k:\n",
    "    train['월평균중식계'][train['월'] == i] = tmp_v[i-1]"
   ]
  },
  {
   "cell_type": "code",
   "execution_count": 28,
   "id": "accomplished-tracy",
   "metadata": {},
   "outputs": [],
   "source": [
    "train['월평균석식계'] = 0\n",
    "tmp = train.groupby('월').mean()['석식계']\n",
    "tmp_k = tmp.keys(); tmp_v = tmp.values\n",
    "for i in tmp_k:\n",
    "    train['월평균석식계'][train['월'] == i] = tmp_v[i-1]"
   ]
  },
  {
   "cell_type": "markdown",
   "id": "divided-plenty",
   "metadata": {},
   "source": [
    "## 공휴일전후"
   ]
  },
  {
   "cell_type": "code",
   "execution_count": 29,
   "id": "incorrect-sleep",
   "metadata": {},
   "outputs": [],
   "source": [
    "#공휴일 지정 노가다\n",
    "train['공휴일전후'] = 0\n",
    "\n",
    "train['공휴일전후'][17] = 1\n",
    "train['공휴일전후'][3] = 1\n",
    "train['공휴일전후'][62] = 1\n",
    "# train['공휴일전후'][67] = 1\n",
    "# train['공휴일전후'][82] = 1\n",
    "train['공휴일전후'][131] = 1\n",
    "# train['공휴일전후'][130] = 1\n",
    "train['공휴일전후'][152] = 1\n",
    "train['공휴일전후'][226] = 1\n",
    "train['공휴일전후'][221] = 1\n",
    "train['공휴일전후'][224] = 1\n",
    "# train['공휴일전후'][244] = 1\n",
    "train['공휴일전후'][245] = 1\n",
    "# train['공휴일전후'][267] = 1\n",
    "train['공휴일전후'][310] = 1\n",
    "train['공휴일전후'][311] = 1\n",
    "train['공휴일전후'][309] = 1\n",
    "train['공휴일전후'][330] = 1\n",
    "train['공휴일전후'][379] = 1\n",
    "train['공휴일전후'][467] = 1\n",
    "# train['공휴일전후'][469] = 1\n",
    "train['공휴일전후'][470] = 1\n",
    "train['공휴일전후'][502] = 1\n",
    "# train['공휴일전후'][501] = 1\n",
    "# train['공휴일전후'][511] = 1\n",
    "train['공휴일전후'][565] = 1\n",
    "train['공휴일전후'][623] = 1\n",
    "train['공휴일전후'][651] = 1\n",
    "# train['공휴일전후'][650] = 1\n",
    "train['공휴일전후'][705] = 1\n",
    "# train['공휴일전후'][707] = 1\n",
    "train['공휴일전후'][709] = 1\n",
    "# train['공휴일전후'][733] = 1\n",
    "# train['공휴일전후'][748] = 1\n",
    "# train['공휴일전후'][792] = 1\n",
    "train['공휴일전후'][815] = 1\n",
    "train['공휴일전후'][864] = 1\n",
    "# train['공휴일전후'][863] = 1\n",
    "train['공휴일전후'][950] = 1\n",
    "train['공휴일전후'][951] = 1\n",
    "train['공휴일전후'][953] = 1\n",
    "train['공휴일전후'][954] = 1\n",
    "train['공휴일전후'][955] = 1\n",
    "train['공휴일전후'][971] = 1\n",
    "# train['공휴일전후'][970] = 1\n",
    "# train['공휴일전후'][1037] = 1\n",
    "train['공휴일전후'][1038] = 1\n",
    "train['공휴일전후'][1099] = 1\n",
    "train['공휴일전후'][1129] = 1\n",
    "# train['공휴일전후'][1128] = 1\n",
    "train['공휴일전후'][1187] = 1\n",
    "# train['공휴일전후'][1186] = 1"
   ]
  },
  {
   "cell_type": "markdown",
   "id": "forward-broad",
   "metadata": {},
   "source": [
    "## 자기계발의날"
   ]
  },
  {
   "cell_type": "code",
   "execution_count": 30,
   "id": "dental-brick",
   "metadata": {},
   "outputs": [],
   "source": [
    "train['자기계발의날'] = 0"
   ]
  },
  {
   "cell_type": "code",
   "execution_count": 31,
   "id": "gothic-terrain",
   "metadata": {},
   "outputs": [],
   "source": [
    "train['자기계발의날'].loc[(train['석식계'] == 0) & (train['공휴일전후'] == 0) & (train['요일'] == 2)] = 1"
   ]
  },
  {
   "cell_type": "markdown",
   "id": "blind-bhutan",
   "metadata": {},
   "source": [
    "# 저장"
   ]
  },
  {
   "cell_type": "code",
   "execution_count": 32,
   "id": "neither-recipe",
   "metadata": {},
   "outputs": [],
   "source": [
    "train.to_csv('dataset/data/train_dinner.csv', index=False)"
   ]
  },
  {
   "cell_type": "markdown",
   "id": "centered-sociology",
   "metadata": {},
   "source": [
    "# 상관성 분석"
   ]
  },
  {
   "cell_type": "code",
   "execution_count": 33,
   "id": "sunrise-pixel",
   "metadata": {},
   "outputs": [
    {
     "data": {
      "text/plain": [
       "<AxesSubplot:>"
      ]
     },
     "execution_count": 33,
     "metadata": {},
     "output_type": "execute_result"
    },
    {
     "data": {
      "image/png": "[encoded data removed]",
      "text/plain": [
       "<Figure size 720x216 with 2 Axes>"
      ]
     },
     "metadata": {
      "needs_background": "light"
     },
     "output_type": "display_data"
    }
   ],
   "source": [
    "plt.figure(figsize=(10, 3))\n",
    "tmp = train.corr().loc[['중식계', '석식계']]\n",
    "sns.heatmap(tmp,\n",
    "               annot = True,      # 실제 값 화면에 나타내기\n",
    "               cmap = 'RdYlBu_r',  # Red, Yellow, Blue 색상으로 표시\n",
    "               vmin = -1, vmax = 1, #컬러차트 -1 ~ 1 범위로 표시\n",
    "              )"
   ]
  },
  {
   "cell_type": "code",
   "execution_count": 34,
   "id": "august-fishing",
   "metadata": {},
   "outputs": [
    {
     "data": {
      "text/plain": [
       "Index(['일자', '요일', '본사정원수', '본사휴가자수', '본사출장자수', '본사시간외근무명령서승인건수',\n",
       "       '현본사소속재택근무자수', '조식메뉴', '중식메뉴', '석식메뉴', '중식계', '석식계', '년', '월', '일',\n",
       "       '식사가능자', '전주중식계', '전주석식계', '요일평균중식계', '요일평균석식계', '월평균중식계', '월평균석식계',\n",
       "       '공휴일전후', '자기계발의날'],\n",
       "      dtype='object')"
      ]
     },
     "execution_count": 34,
     "metadata": {},
     "output_type": "execute_result"
    }
   ],
   "source": [
    "train.columns"
   ]
  },
  {
   "cell_type": "code",
   "execution_count": 36,
   "id": "assisted-means",
   "metadata": {},
   "outputs": [
    {
     "name": "stdout",
     "output_type": "stream",
     "text": [
      "                                 OLS Regression Results                                \n",
      "=======================================================================================\n",
      "Dep. Variable:                    석식계   R-squared (uncentered):                   1.000\n",
      "Model:                            OLS   Adj. R-squared (uncentered):              1.000\n",
      "Method:                 Least Squares   F-statistic:                          3.417e+30\n",
      "Date:                Sun, 18 Jul 2021   Prob (F-statistic):                        0.00\n",
      "Time:                        14:38:59   Log-Likelihood:                          30482.\n",
      "No. Observations:                1205   AIC:                                 -6.094e+04\n",
      "Df Residuals:                    1192   BIC:                                 -6.087e+04\n",
      "Df Model:                          13                                                  \n",
      "Covariance Type:            nonrobust                                                  \n",
      "==================================================================================\n",
      "                     coef    std err          t      P>|t|      [0.025      0.975]\n",
      "----------------------------------------------------------------------------------\n",
      "요일             -6.798e-14   8.72e-14     -0.780      0.436   -2.39e-13    1.03e-13\n",
      "본사정원수          -1.993e-16   5.41e-16     -0.368      0.713   -1.26e-15    8.62e-16\n",
      "본사휴가자수          7.831e-17   5.96e-16      0.131      0.895   -1.09e-15    1.25e-15\n",
      "본사출장자수           1.38e-15   1.89e-15      0.731      0.465   -2.32e-15    5.08e-15\n",
      "본사시간외근무명령서승인건수 -1.014e-15   6.05e-16     -1.677      0.094    -2.2e-15    1.72e-16\n",
      "현본사소속재택근무자수     6.698e-16   6.85e-16      0.978      0.328   -6.74e-16    2.01e-15\n",
      "석식계                1.0000   7.05e-16   1.42e+15      0.000       1.000       1.000\n",
      "식사가능자          -4.151e-16    8.2e-16     -0.506      0.613   -2.02e-15    1.19e-15\n",
      "전주중식계          -5.475e-16   6.69e-16     -0.818      0.413   -1.86e-15    7.65e-16\n",
      "전주석식계           5.239e-16   7.56e-16      0.693      0.488   -9.58e-16    2.01e-15\n",
      "요일평균중식계        -6.306e-16   1.01e-15     -0.622      0.534   -2.62e-15    1.36e-15\n",
      "요일평균석식계        -3.224e-16   2.33e-15     -0.139      0.890   -4.89e-15    4.24e-15\n",
      "월평균중식계         -4.241e-16   2.28e-15     -0.186      0.852   -4.89e-15    4.04e-15\n",
      "월평균석식계         -5.612e-16   3.33e-15     -0.169      0.866   -7.09e-15    5.97e-15\n",
      "==============================================================================\n",
      "Omnibus:                      136.394   Durbin-Watson:                   0.070\n",
      "Prob(Omnibus):                  0.000   Jarque-Bera (JB):               41.042\n",
      "Skew:                          -0.134   Prob(JB):                     1.22e-09\n",
      "Kurtosis:                       2.137   Cond. No.                     6.42e+15\n",
      "==============================================================================\n",
      "\n",
      "Notes:\n",
      "[1] R² is computed without centering (uncentered) since the model does not contain a constant.\n",
      "[2] Standard Errors assume that the covariance matrix of the errors is correctly specified.\n",
      "[3] The smallest eigenvalue is 4.96e-22. This might indicate that there are\n",
      "strong multicollinearity problems or that the design matrix is singular.\n"
     ]
    }
   ],
   "source": [
    "def get_stats(df, columns, y):\n",
    "    x = df[columns]\n",
    "    results = sm.OLS(y, x).fit()\n",
    "    print(results.summary())\n",
    "\n",
    "y = train['석식계']\n",
    "cols = ['요일', '본사정원수', '본사휴가자수', '본사출장자수', '본사시간외근무명령서승인건수',\n",
    "       '현본사소속재택근무자수', '석식계', '식사가능자', '전주중식계', '전주석식계', '요일평균중식계', \n",
    "        '요일평균석식계', '월평균중식계', '월평균석식계']\n",
    "get_stats(train, cols, y)"
   ]
  },
  {
   "cell_type": "code",
   "execution_count": null,
   "id": "mathematical-arrow",
   "metadata": {},
   "outputs": [],
   "source": []
  }
 ],
 "metadata": {
  "kernelspec": {
   "display_name": "Python 3",
   "language": "python",
   "name": "python3"
  },
  "language_info": {
   "codemirror_mode": {
    "name": "ipython",
    "version": 3
   },
   "file_extension": ".py",
   "mimetype": "text/x-python",
   "name": "python",
   "nbconvert_exporter": "python",
   "pygments_lexer": "ipython3",
   "version": "3.7.10"
  }
 },
 "nbformat": 4,
 "nbformat_minor": 5
}
